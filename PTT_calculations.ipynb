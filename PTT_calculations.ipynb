{
  "nbformat": 4,
  "nbformat_minor": 0,
  "metadata": {
    "colab": {
      "provenance": [],
      "authorship_tag": "ABX9TyNKgQ3rS7he26ctdjc4tmxk",
      "include_colab_link": true
    },
    "kernelspec": {
      "name": "python3",
      "display_name": "Python 3"
    },
    "language_info": {
      "name": "python"
    }
  },
  "cells": [
    {
      "cell_type": "markdown",
      "metadata": {
        "id": "view-in-github",
        "colab_type": "text"
      },
      "source": [
        "<a href=\"https://colab.research.google.com/github/scfaundez/Macroeconomics/blob/main/PTT_calculations.ipynb\" target=\"_parent\"><img src=\"https://colab.research.google.com/assets/colab-badge.svg\" alt=\"Open In Colab\"/></a>"
      ]
    },
    {
      "cell_type": "code",
      "execution_count": 11,
      "metadata": {
        "colab": {
          "base_uri": "https://localhost:8080/"
        },
        "id": "tLNMxSJ3EOpR",
        "outputId": "e674e4c7-5ae6-4024-c184-23902439de98"
      },
      "outputs": [
        {
          "output_type": "stream",
          "name": "stdout",
          "text": [
            "El peak-to-trough de la serie de tiempo como cambio porcentual es: 401.89956120838485 %\n",
            "La duración del periodo peak-to-trough es: 104 days 00:00:00\n",
            "El trough-to-peak de la serie de tiempo como cambio porcentual es: 2786.4734543544996 %\n",
            "La duración del periodo trough-to-peak es: -1 days +00:00:00\n"
          ]
        }
      ],
      "source": [
        "import numpy as np\n",
        "import pandas as pd\n",
        "\n",
        "# Generar la serie de tiempo aleatoria\n",
        "np.random.seed(42)\n",
        "serie_tiempo = pd.Series(np.random.randn(1000).cumsum())\n",
        "\n",
        "# Crear una variable de tiempo\n",
        "tiempo = pd.date_range(start='2021-01-01', freq='D', periods=len(serie_tiempo))\n",
        "\n",
        "# Crear un DataFrame con la serie de tiempo y la variable de tiempo\n",
        "df = pd.DataFrame({'Fecha': tiempo, 'Precio': serie_tiempo})\n",
        "\n",
        "# Crear una nueva columna para los picos acumulados\n",
        "df['Peak'] = df['Precio'].cummax()\n",
        "\n",
        "# Crear una nueva columna para los valles acumulados\n",
        "df['Trough'] = df['Precio'].cummin()\n",
        "\n",
        "# Calcular la diferencia entre el peak y el trough como un porcentaje\n",
        "df['Peak-to-Trough(%)'] = ((df['Peak'] - df['Trough']) / df['Peak']) * 100\n",
        "\n",
        "# Calcular la diferencia entre el trough y el peak como un porcentaje\n",
        "df['Trough-to-Peak(%)'] = ((df['Peak'] - df['Trough']) / df['Trough']) * 100\n",
        "\n",
        "# Encontrar el máximo de la diferencia peak-to-trough\n",
        "pico_valle = df['Peak-to-Trough(%)'].max()\n",
        "# Encontrar el máximo de la diferencia trough-to-peak\n",
        "valle_pico = df['Trough-to-Peak(%)'].max()\n",
        "\n",
        "# Calcular la duración del periodo peak-to-trough\n",
        "pico_valle_duration = df.loc[df['Peak-to-Trough(%)'].idxmax(), 'Fecha'] - df.loc[df['Peak-to-Trough(%)'].idxmin(), 'Fecha']\n",
        "\n",
        "# Calcular la duración del periodo trough-to-peak\n",
        "valle_pico_duration = df.loc[df['Trough-to-Peak(%)'].idxmax(), 'Fecha'] - df.loc[df['Trough-to-Peak(%)'].idxmin(), 'Fecha']\n",
        "\n",
        "# Agregar las columnas de duración al DataFrame\n",
        "df['Peak-to-Trough Duration'] = pd.Series([pico_valle_duration.days]*len(df))\n",
        "df['Trough-to-Peak Duration'] = pd.Series([valle_pico_duration.days]*len(df))\n",
        "\n",
        "print('El peak-to-trough de la serie de tiempo como cambio porcentual es:', pico_valle, '%')\n",
        "print('La duración del periodo peak-to-trough es:', pico_valle_duration)\n",
        "print('El trough-to-peak de la serie de tiempo como cambio porcentual es:', valle_pico, '%')\n",
        "print('La duración del periodo trough-to-peak es:', valle_pico_duration)\n",
        "\n",
        "# Exportar resultados a un archivo Excel\n",
        "df.to_excel('resultados.xlsx', index=False)\n"
      ]
    },
    {
      "cell_type": "code",
      "source": [
        "df"
      ],
      "metadata": {
        "id": "JYyypn_SFNoJ"
      },
      "execution_count": null,
      "outputs": []
    }
  ]
}