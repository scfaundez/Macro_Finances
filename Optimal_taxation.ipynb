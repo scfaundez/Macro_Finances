{
  "nbformat": 4,
  "nbformat_minor": 0,
  "metadata": {
    "colab": {
      "provenance": [],
      "authorship_tag": "ABX9TyNokfACmaVNPY/ebvPw/1vi",
      "include_colab_link": true
    },
    "kernelspec": {
      "name": "python3",
      "display_name": "Python 3"
    },
    "language_info": {
      "name": "python"
    }
  },
  "cells": [
    {
      "cell_type": "markdown",
      "metadata": {
        "id": "view-in-github",
        "colab_type": "text"
      },
      "source": [
        "<a href=\"https://colab.research.google.com/github/scfaundez/Macroeconomics/blob/main/Optimal_taxation.ipynb\" target=\"_parent\"><img src=\"https://colab.research.google.com/assets/colab-badge.svg\" alt=\"Open In Colab\"/></a>"
      ]
    },
    {
      "cell_type": "code",
      "execution_count": 1,
      "metadata": {
        "colab": {
          "base_uri": "https://localhost:8080/"
        },
        "id": "xiBW6X0_jaeN",
        "outputId": "a8f88616-c980-4d3f-d6de-42d8080977b0"
      },
      "outputs": [
        {
          "output_type": "stream",
          "name": "stderr",
          "text": [
            "/usr/local/lib/python3.10/dist-packages/scipy/optimize/_optimize.py:353: RuntimeWarning: Values in x were outside bounds during a minimize step, clipping to bounds\n",
            "  warnings.warn(\"Values in x were outside bounds during a \"\n"
          ]
        },
        {
          "output_type": "stream",
          "name": "stdout",
          "text": [
            "Tasa de tributación óptima:  0.19992896262518797\n",
            "Recaudación solo con crecimiento económico:  1159274.07\n",
            "Recaudación solo con aumento de tasa:  3537823.71\n",
            "Tasa de tributación equivalente para igualar la recaudación:  0.2\n"
          ]
        }
      ],
      "source": [
        "from scipy.optimize import minimize\n",
        "\n",
        "# Parámetros del modelo\n",
        "alpha = 0.3  # Elasticidad de sustitución entre bienestar y consumo\n",
        "beta = 0.9  # Descuento intertemporal\n",
        "gamma = 0.5  # Elasticidad de sustitución entre trabajo y ocio\n",
        "tau = 0.2  # Tasa de tributación inicial\n",
        "epsilon = 0.0001  # Tolerancia para la optimización\n",
        "\n",
        "# Función objetivo\n",
        "def welfare_objective(tau):\n",
        "    # Función de utilidad del consumidor\n",
        "    def utility(c, l):\n",
        "        return c**(1-alpha) * l**gamma\n",
        "\n",
        "    # Restricción presupuestaria del consumidor\n",
        "    def budget_constraint(c, w, tau):\n",
        "        return w * (1 - tau) * c - c\n",
        "\n",
        "    # Función de utilidad del productor\n",
        "    def production(y, k):\n",
        "        return y - k**alpha\n",
        "\n",
        "    # Restricción presupuestaria del productor\n",
        "    def investment_constraint(y, k, r, w):\n",
        "        return k - (1 - delta) * k + y - r * k - w\n",
        "\n",
        "    # Parámetros del modelo económico\n",
        "    w = 1  # Salario\n",
        "    r = 0.05  # Tasa de interés\n",
        "    delta = 0.1  # Tasa de depreciación\n",
        "\n",
        "    # Solución del modelo de equilibrio general\n",
        "    def equilibrium(x):\n",
        "        c, l, y, k = x\n",
        "        return -(utility(c, l) - beta * utility(c, l) + production(y, k) - investment_constraint(y, k, r, w) + budget_constraint(c, w, tau))\n",
        "\n",
        "    # Optimización para encontrar el equilibrio\n",
        "    result = minimize(equilibrium, [1, 0.5, 1, 1], bounds=((epsilon, None), (epsilon, 1-epsilon), (epsilon, None), (epsilon, None)), method='SLSQP')\n",
        "\n",
        "    return -result.fun\n",
        "\n",
        "# Optimización para encontrar la tasa de tributación óptima\n",
        "result = minimize(welfare_objective, [tau], bounds=((epsilon, 1-epsilon),), method='SLSQP')\n",
        "optimal_tau = result.x[0]\n",
        "\n",
        "# Resultado\n",
        "print(\"Tasa de tributación óptima: \", optimal_tau)\n",
        "\n",
        "\n",
        "# Parámetros del modelo\n",
        "recaudacion_inicial = 1000000  # Monto inicial de recaudación de impuestos\n",
        "crecimiento_economico = 0.03  # Tasa de crecimiento económico (3%)\n",
        "tasa_tributacion_inicial = 0.2  # Tasa de tributación inicial (20%)\n",
        "tasa_tributacion_aumentada = 0.25  # Tasa de tributación aumentada (25%)\n",
        "periodos = 5  # Número de periodos a considerar\n",
        "\n",
        "# Cálculo de la recaudación con crecimiento económico\n",
        "recaudacion_crecimiento = recaudacion_inicial * (1 + crecimiento_economico)**periodos\n",
        "\n",
        "# Cálculo de la recaudación solo con aumento de tasa\n",
        "recaudacion_aumento_tasa = recaudacion_inicial\n",
        "for periodo in range(periodos):\n",
        "    recaudacion_aumento_tasa *= (1 + crecimiento_economico)\n",
        "    recaudacion_aumento_tasa *= (1 + tasa_tributacion_aumentada)\n",
        "\n",
        "# Cálculo del aumento de tasa para igualar la recaudación\n",
        "tasa_tributacion_equivalente = tasa_tributacion_inicial\n",
        "while recaudacion_aumento_tasa < recaudacion_crecimiento:\n",
        "    tasa_tributacion_equivalente += 0.01\n",
        "    recaudacion_aumento_tasa = recaudacion_inicial\n",
        "    for periodo in range(periodos):\n",
        "        recaudacion_aumento_tasa *= (1 + crecimiento_economico)\n",
        "        recaudacion_aumento_tasa *= (1 + tasa_tributacion_equivalente)\n",
        "\n",
        "# Resultados\n",
        "print(\"Recaudación solo con crecimiento económico: \", round(recaudacion_crecimiento, 2))\n",
        "print(\"Recaudación solo con aumento de tasa: \", round(recaudacion_aumento_tasa, 2))\n",
        "print(\"Tasa de tributación equivalente para igualar la recaudación: \", round(tasa_tributacion_equivalente, 2))\n",
        "\n"
      ]
    }
  ]
}